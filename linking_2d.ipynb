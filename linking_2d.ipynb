{
 "cells": [
  {
   "cell_type": "code",
   "execution_count": 103,
   "metadata": {
    "collapsed": true
   },
   "outputs": [],
   "source": [
    "import numpy as np \n",
    "import pims\n",
    "import skimage as ski \n",
    "import matplotlib as mpl\n",
    "import matplotlib.pyplot as plt \n",
    "%matplotlib inline\n",
    "import pandas as pd\n",
    "import trackpy as tp\n",
    "from trackpy import predict\n",
    "import pickle\n",
    "import linking_2d as l2d\n",
    "import time \n",
    "import visualization as vs\n",
    "#tweak plot styles\n",
    "mpl.rc('figure',  figsize=(15, 5))\n",
    "mpl.rc('image', cmap='gray')\n",
    "tp.ignore_logging() # important to not spam too much print output "
   ]
  },
  {
   "cell_type": "code",
   "execution_count": 104,
   "metadata": {},
   "outputs": [
    {
     "name": "stdout",
     "output_type": "stream",
     "text": [
      "The autoreload extension is already loaded. To reload it, use:\n",
      "  %reload_ext autoreload\n"
     ]
    }
   ],
   "source": [
    "#run these if you want to reload imported modules every time the code is run \n",
    "%load_ext autoreload\n",
    "%autoreload 2"
   ]
  },
  {
   "cell_type": "code",
   "execution_count": 135,
   "metadata": {
    "collapsed": true
   },
   "outputs": [],
   "source": [
    "# load in features\n",
    "tL = pd.read_hdf('/media/kpierce/Data/steadyspt4.1-rectified/analysis/trajectories/leftfeatures.h5')\n",
    "tR = pd.read_hdf('/media/kpierce/Data/steadyspt4.1-rectified/analysis/trajectories/rightfeatures.h5')\n",
    "\n",
    "# increase y coordinate of every feature by 245 to undo the cropping effect\n",
    "tL['y']+=245\n",
    "tR['y']+=245"
   ]
  },
  {
   "cell_type": "code",
   "execution_count": 136,
   "metadata": {
    "collapsed": true
   },
   "outputs": [],
   "source": [
    "# define the predictor \n",
    "@tp.predict.predictor\n",
    "def predict(t1, particle):\n",
    "    velocity = np.array((5, 0)) \n",
    "    return particle.pos + velocity * (t1 - particle.t)"
   ]
  },
  {
   "cell_type": "code",
   "execution_count": 6,
   "metadata": {
    "collapsed": true
   },
   "outputs": [],
   "source": [
    "# link features into 2d trajectories \n",
    "tL1 = tp.link_df(tL, search_range=50,memory=15, predictor=predict)\n",
    "tL1.to_hdf('/media/kpierce/Data/steadyspt4.1-rectified/analysis/trajectories/leftlinkedfeatures.h5',key='df',mode='w')"
   ]
  },
  {
   "cell_type": "code",
   "execution_count": 7,
   "metadata": {
    "collapsed": true
   },
   "outputs": [],
   "source": [
    "# link right features in 2d trajectories \n",
    "tR1 = tp.link_df(tR, search_range=50,memory=15, predictor=predict)\n",
    "tR1.to_hdf('/media/kpierce/Data/steadyspt4.1-rectified/analysis/trajectories/rightlinkedfeatures.h5',key='df',mode='w')"
   ]
  },
  {
   "cell_type": "code",
   "execution_count": 137,
   "metadata": {
    "collapsed": true
   },
   "outputs": [],
   "source": [
    "# or skip these steps and load the linked features ... \n",
    "#tL1 = pd.read_hdf('/media/kpierce/Data/steadyspt4.1-rectified/analysis/trajectories/leftlinkedfeatures.h5')\n",
    "#tR1 = pd.read_hdf('/media/kpierce/Data/steadyspt4.1-rectified/analysis/trajectories/rightlinkedfeatures.h5')"
   ]
  },
  {
   "cell_type": "code",
   "execution_count": 138,
   "metadata": {
    "collapsed": true
   },
   "outputs": [],
   "source": [
    "# create trajectory objects from the raw data \n",
    "tL2 = l2d.generate_trajectories(tL1,'L',minlength=20) #minlength means number of time points involved in the trajectory\n",
    "tR2 = l2d.generate_trajectories(tR1,'R',minlength=20) "
   ]
  },
  {
   "cell_type": "code",
   "execution_count": 139,
   "metadata": {
    "collapsed": true
   },
   "outputs": [],
   "source": [
    "# filter trajectories by their travel distance .. 30 pixels is about 1 particle diameter \n",
    "tL3 = l2d.distance_filter(tL2)\n",
    "tR3 = l2d.distance_filter(tR2)"
   ]
  },
  {
   "cell_type": "code",
   "execution_count": 140,
   "metadata": {
    "collapsed": true
   },
   "outputs": [],
   "source": [
    "# save trajectories\n",
    "f = open('../trajectories/tL-pickle', 'wb')\n",
    "pickle.dump(tL3, f)\n",
    "f.close()\n",
    "f = open('../trajectories/tR-pickle', 'wb')\n",
    "pickle.dump(tR3, f)\n",
    "f.close()"
   ]
  },
  {
   "cell_type": "code",
   "execution_count": 141,
   "metadata": {
    "scrolled": true
   },
   "outputs": [
    {
     "name": "stdout",
     "output_type": "stream",
     "text": [
      "trajectory 15200 processed\r"
     ]
    }
   ],
   "source": [
    "# now interpolate trajectories\n",
    "# get the left one \n",
    "tL4 = l2d.interp_trajectories(tL3,'L')\n",
    "# save interpolated trajectories \n",
    "f = open('../trajectories/tLi-pickle', 'wb')\n",
    "pickle.dump(tL4, f)\n",
    "f.close()"
   ]
  },
  {
   "cell_type": "code",
   "execution_count": 142,
   "metadata": {},
   "outputs": [
    {
     "name": "stdout",
     "output_type": "stream",
     "text": [
      "trajectory 16100 processed\r"
     ]
    }
   ],
   "source": [
    "# and the right one \n",
    "tR4 = l2d.interp_trajectories(tR3,'R')\n",
    "# save interpolated trajectories \n",
    "f = open('../trajectories/tRi-pickle', 'wb')\n",
    "pickle.dump(tR4, f)\n",
    "f.close()"
   ]
  }
 ],
 "metadata": {
  "kernelspec": {
   "display_name": "Python [conda env:anaconda3]",
   "language": "python",
   "name": "conda-env-anaconda3-py"
  },
  "language_info": {
   "codemirror_mode": {
    "name": "ipython",
    "version": 3
   },
   "file_extension": ".py",
   "mimetype": "text/x-python",
   "name": "python",
   "nbconvert_exporter": "python",
   "pygments_lexer": "ipython3",
   "version": "3.6.6"
  }
 },
 "nbformat": 4,
 "nbformat_minor": 2
}
