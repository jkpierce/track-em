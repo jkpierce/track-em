{
 "cells": [
  {
   "cell_type": "code",
   "execution_count": 1,
   "metadata": {
    "collapsed": true
   },
   "outputs": [],
   "source": [
    "# imports \n",
    "import pims\n",
    "import numpy as np \n",
    "import PIL\n",
    "import pandas as pd\n",
    "import skimage\n",
    "from skimage import measure \n",
    "import background_subtraction as bs \n",
    "import time \n",
    "from scipy import ndimage "
   ]
  },
  {
   "cell_type": "code",
   "execution_count": null,
   "metadata": {
    "collapsed": true
   },
   "outputs": [],
   "source": [
    "#run these if you want to reload imported modules every time the code is run \n",
    "%load_ext autoreload\n",
    "%autoreload 2"
   ]
  },
  {
   "cell_type": "code",
   "execution_count": 3,
   "metadata": {
    "collapsed": true
   },
   "outputs": [],
   "source": [
    "### Run analysis on the video sequence. All you need to modify for different datasets is all of these pathes. \n",
    "# load videos, convert to numpy, then crop \n",
    "L = bs.crop(bs.arr(pims.ImageSequence('../../left-rect/left-*.tiff')))\n",
    "R = bs.crop(bs.arr(pims.ImageSequence('../../right-rect/right-*.tiff')))"
   ]
  },
  {
   "cell_type": "code",
   "execution_count": null,
   "metadata": {
    "collapsed": true
   },
   "outputs": [],
   "source": [
    "# generate left foreground video\n",
    "bs.gen_foregrounds(L,'../../left-fg','leftfg')"
   ]
  },
  {
   "cell_type": "code",
   "execution_count": null,
   "metadata": {
    "collapsed": true
   },
   "outputs": [],
   "source": [
    "# generate right foreground video \n",
    "bs.gen_foregrounds(R,'../../right-fg','rightfg')"
   ]
  },
  {
   "cell_type": "code",
   "execution_count": null,
   "metadata": {
    "collapsed": true
   },
   "outputs": [],
   "source": [
    "# load foreground videos \n",
    "Lf = bs.arr(pims.ImageSequence('../../left-fg/leftfg-*.tiff'))\n",
    "Rf = bs.arr(pims.ImageSequence('../../right-fg/rightfg-*.tiff'))"
   ]
  },
  {
   "cell_type": "code",
   "execution_count": null,
   "metadata": {
    "collapsed": true
   },
   "outputs": [],
   "source": [
    "# locate features in left video \n",
    "bs.locate_features(Lf, '../leftfeatures.h5')"
   ]
  },
  {
   "cell_type": "code",
   "execution_count": null,
   "metadata": {
    "collapsed": true
   },
   "outputs": [],
   "source": [
    "# locate features in right video \n",
    "bs.locate_features(Rf, '../rightfeatures.h5')"
   ]
  },
  {
   "cell_type": "code",
   "execution_count": null,
   "metadata": {
    "collapsed": true
   },
   "outputs": [],
   "source": [
    "import visualization as vs"
   ]
  },
  {
   "cell_type": "code",
   "execution_count": 5,
   "metadata": {
    "collapsed": true
   },
   "outputs": [],
   "source": [
    "tL = pd.read_hdf('/media/kpierce/Data/steadyspt4.1-rectified/analysis/trajectories/leftfeatures.h5')\n",
    "tR = pd.read_hdf('/media/kpierce/Data/steadyspt4.1-rectified/analysis/trajectories/rightfeatures.h5')\n",
    "\n",
    "# increase y coordinate of every feature by 245 to undo the cropping effect\n",
    "tL['y']+=245\n",
    "tR['y']+=245"
   ]
  },
  {
   "cell_type": "code",
   "execution_count": 6,
   "metadata": {
    "collapsed": true
   },
   "outputs": [],
   "source": [
    "il = 5000\n",
    "ir = int(round(5000*188/190.4))"
   ]
  },
  {
   "cell_type": "code",
   "execution_count": 15,
   "metadata": {
    "collapsed": true
   },
   "outputs": [],
   "source": [
    "iml = L[il]\n",
    "imr = R[ir]\n",
    "iml = (255*np.stack((iml,)*3,-1)).astype('uint8')\n",
    "imr = (255*np.stack((imr,)*3,-1)).astype('uint8')"
   ]
  },
  {
   "cell_type": "code",
   "execution_count": 38,
   "metadata": {
    "collapsed": true
   },
   "outputs": [],
   "source": [
    "L = bs.arr(pims.ImageSequence('../../left-rect/left-*.tiff'))\n",
    "R = bs.arr(pims.ImageSequence('../../right-rect/right-*.tiff'))\n",
    "iml = L[il]\n",
    "imr = R[ir]\n",
    "iml = (255*np.stack((iml,)*3,-1)).astype('uint8')\n",
    "imr = (255*np.stack((imr,)*3,-1)).astype('uint8')"
   ]
  },
  {
   "cell_type": "code",
   "execution_count": 39,
   "metadata": {},
   "outputs": [],
   "source": [
    "lfeats = tL[tL['frame']==il]\n",
    "rfeats = tR[tR['frame']==ir]"
   ]
  },
  {
   "cell_type": "code",
   "execution_count": 40,
   "metadata": {
    "collapsed": true
   },
   "outputs": [],
   "source": [
    "import skimage"
   ]
  },
  {
   "cell_type": "code",
   "execution_count": 41,
   "metadata": {
    "collapsed": true
   },
   "outputs": [],
   "source": [
    "from skimage import draw"
   ]
  },
  {
   "cell_type": "code",
   "execution_count": 51,
   "metadata": {
    "scrolled": true
   },
   "outputs": [],
   "source": [
    "for i,f in lfeats.iterrows():\n",
    "    x = int(round(f['x']))\n",
    "    y = int(round(f['y']))\n",
    "    r,c = skimage.draw.circle_perimeter(y,x,15,shape=iml.shape)\n",
    "    iml[r,c]=[250,0,250]\n",
    "    \n",
    "for i,f in rfeats.iterrows():\n",
    "    x = int(round(f['x']))\n",
    "    y = int(round(f['y']))\n",
    "    r,c = skimage.draw.circle_perimeter(y,x,15,shape=iml.shape)\n",
    "    imr[r,c]=[250,0,250]"
   ]
  },
  {
   "cell_type": "code",
   "execution_count": 52,
   "metadata": {
    "collapsed": true
   },
   "outputs": [],
   "source": [
    "from matplotlib import pyplot as plt\n",
    "%matplotlib inline"
   ]
  },
  {
   "cell_type": "code",
   "execution_count": 53,
   "metadata": {
    "collapsed": true
   },
   "outputs": [],
   "source": [
    "im = np.hstack((iml,imr))"
   ]
  },
  {
   "cell_type": "code",
   "execution_count": 54,
   "metadata": {},
   "outputs": [
    {
     "data": {
      "text/plain": [
       "<matplotlib.image.AxesImage at 0x7f57fdc81390>"
      ]
     },
     "execution_count": 54,
     "metadata": {},
     "output_type": "execute_result"
    },
    {
     "data": {
      "image/png": "[encoded data removed]",
      "text/plain": [
       "<Figure size 432x288 with 1 Axes>"
      ]
     },
     "metadata": {},
     "output_type": "display_data"
    }
   ],
   "source": [
    "plt.imshow(im)"
   ]
  },
  {
   "cell_type": "code",
   "execution_count": 55,
   "metadata": {
    "collapsed": true
   },
   "outputs": [],
   "source": [
    "from skimage import io"
   ]
  },
  {
   "cell_type": "code",
   "execution_count": 56,
   "metadata": {
    "collapsed": true
   },
   "outputs": [],
   "source": [
    "io.imsave('/home/kpierce/Desktop/stereo-pres/detected.png',im)"
   ]
  },
  {
   "cell_type": "code",
   "execution_count": null,
   "metadata": {
    "collapsed": true
   },
   "outputs": [],
   "source": []
  }
 ],
 "metadata": {
  "kernelspec": {
   "display_name": "Python [conda env:anaconda3]",
   "language": "python",
   "name": "conda-env-anaconda3-py"
  },
  "language_info": {
   "codemirror_mode": {
    "name": "ipython",
    "version": 3
   },
   "file_extension": ".py",
   "mimetype": "text/x-python",
   "name": "python",
   "nbconvert_exporter": "python",
   "pygments_lexer": "ipython3",
   "version": "3.6.6"
  }
 },
 "nbformat": 4,
 "nbformat_minor": 2
}
