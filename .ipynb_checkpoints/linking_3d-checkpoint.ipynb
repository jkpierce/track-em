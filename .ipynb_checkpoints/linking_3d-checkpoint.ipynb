{
 "cells": [
  {
   "cell_type": "code",
   "execution_count": 1,
   "metadata": {
    "collapsed": true
   },
   "outputs": [],
   "source": [
    "import numpy as np \n",
    "import pims\n",
    "import skimage as ski \n",
    "import matplotlib as mpl\n",
    "from matplotlib import pyplot as plt\n",
    "%matplotlib inline\n",
    "import pandas as pd\n",
    "import trackpy as tp\n",
    "from trackpy import predict\n",
    "import pickle\n",
    "import linking_3d as l3d\n",
    "import time \n",
    "import background_subtraction as bs\n",
    "import visualization as vs\n",
    "import fast_cost_mat as fcm # works ! need to comment. fucked up in there... \n",
    "#tweak plot styles\n",
    "mpl.rc('figure',  figsize=(15, 6))\n",
    "mpl.rc('image', cmap='gray')\n",
    "#tp.ignore_logging() # important to not spam too much print output "
   ]
  },
  {
   "cell_type": "code",
   "execution_count": 2,
   "metadata": {
    "collapsed": true
   },
   "outputs": [],
   "source": [
    "#run these if you want to reload imported modules every time the code is run \n",
    "%load_ext autoreload\n",
    "%autoreload 2"
   ]
  },
  {
   "cell_type": "code",
   "execution_count": 3,
   "metadata": {
    "collapsed": true
   },
   "outputs": [],
   "source": [
    "# load in the trajectories to link \n",
    "f = open('../trajectories/tLi-pickle','rb') # these are the interpolated trajectories \n",
    "tL = pickle.load(f)\n",
    "f.close()\n",
    "f = open('../trajectories/tRi-pickle','rb') \n",
    "tR = pickle.load(f)\n",
    "f.close()"
   ]
  },
  {
   "cell_type": "code",
   "execution_count": 7,
   "metadata": {
    "collapsed": true
   },
   "outputs": [],
   "source": [
    "nl = nr = 500"
   ]
  },
  {
   "cell_type": "code",
   "execution_count": 8,
   "metadata": {
    "scrolled": true
   },
   "outputs": [
    {
     "name": "stdout",
     "output_type": "stream",
     "text": [
      "1000 x 1000 cost matrix generated in 1 seconds\n"
     ]
    }
   ],
   "source": [
    "costs = fcm.gen_cost_mat(tL[:nl],tR[:nr]) "
   ]
  },
  {
   "cell_type": "code",
   "execution_count": 32,
   "metadata": {
    "collapsed": true
   },
   "outputs": [],
   "source": [
    "def cython_link(costs,nl,nr):\n",
    "    from munkres import munkres\n",
    "    # this is the cython munkres program from here \n",
    "    # https://github.com/jfrelinger/cython-munkres-wrapper\n",
    "    # on a 1000x1000 matrix it is a 35% speedup \n",
    "    t0 = time.time()\n",
    "    mat = munkres(costs)\n",
    "    inds = np.argwhere(mat)\n",
    "    inds = inds[(inds.T[0]<nl)&(inds.T[1]<nr)]\n",
    "    print('%d links generated from %d possibilities in %d seconds with CYTHON.'%(len(inds),min(nl,nr),time.time()-t0))\n",
    "    return inds.T"
   ]
  },
  {
   "cell_type": "code",
   "execution_count": 21,
   "metadata": {
    "scrolled": true
   },
   "outputs": [
    {
     "name": "stdout",
     "output_type": "stream",
     "text": [
      "164 links generated from 500 possibilities in 28 seconds.\n"
     ]
    }
   ],
   "source": [
    "link_inds = l3d.link(costs,nl,nr)"
   ]
  },
  {
   "cell_type": "code",
   "execution_count": 33,
   "metadata": {},
   "outputs": [
    {
     "name": "stdout",
     "output_type": "stream",
     "text": [
      "164 links generated from 500 possibilities in 18 seconds with CYTHON.\n"
     ]
    }
   ],
   "source": [
    "link_inds2 = cython_link(costs,nl,nr)"
   ]
  },
  {
   "cell_type": "code",
   "execution_count": 27,
   "metadata": {},
   "outputs": [
    {
     "data": {
      "text/plain": [
       "False"
      ]
     },
     "execution_count": 27,
     "metadata": {},
     "output_type": "execute_result"
    }
   ],
   "source": [
    "set(link_inds[0])==set(link_inds2[0])"
   ]
  },
  {
   "cell_type": "code",
   "execution_count": null,
   "metadata": {
    "collapsed": true,
    "scrolled": true
   },
   "outputs": [],
   "source": [
    "tracks = l3d.links_to_tracks(link_inds,tL[:500],tR[:500])"
   ]
  },
  {
   "cell_type": "code",
   "execution_count": null,
   "metadata": {
    "collapsed": true
   },
   "outputs": [],
   "source": [
    "im = vs.draw_many_tracks(None,None,tracks,range(140,164))\n",
    "plt.imshow(im)"
   ]
  },
  {
   "cell_type": "code",
   "execution_count": null,
   "metadata": {
    "collapsed": true
   },
   "outputs": [],
   "source": []
  }
 ],
 "metadata": {
  "kernelspec": {
   "display_name": "Python [conda env:anaconda3]",
   "language": "python",
   "name": "conda-env-anaconda3-py"
  },
  "language_info": {
   "codemirror_mode": {
    "name": "ipython",
    "version": 3
   },
   "file_extension": ".py",
   "mimetype": "text/x-python",
   "name": "python",
   "nbconvert_exporter": "python",
   "pygments_lexer": "ipython3",
   "version": "3.6.6"
  }
 },
 "nbformat": 4,
 "nbformat_minor": 2
}
