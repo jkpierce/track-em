{
 "cells": [
  {
   "cell_type": "code",
   "execution_count": null,
   "metadata": {
    "collapsed": true
   },
   "outputs": [],
   "source": [
    "# imports \n",
    "import pims\n",
    "import numpy as np \n",
    "import PIL\n",
    "import pandas as pd\n",
    "import skimage\n",
    "import background_subtraction as bs \n",
    "import time \n",
    "import ndimage "
   ]
  },
  {
   "cell_type": "code",
   "execution_count": null,
   "metadata": {
    "collapsed": true
   },
   "outputs": [],
   "source": [
    "### Run analysis on the video sequence. All you need to modify for different datasets is all of these pathes. \n",
    "# load videos, convert to numpy, then crop \n",
    "L = bs.crop(bs.arr(pims.ImageSequence('../../left-rect/left-*.tiff')))\n",
    "R = bs.crop(bs.arr(pims.ImageSequence('../../right-rect/right-*.tiff')))\n",
    "# generate foregrounds\n",
    "bs.gen_foregrounds(L,'../../left-fg','leftfg')\n",
    "bs.gen_foregrounds(R,'../../right-fg','rightfg')\n",
    "# load foreground videos \n",
    "Lf = bs.arr(pims.ImageSequence('../../left-fg/leftfg-*.tiff'))\n",
    "Rf = bs.arr(pims.ImageSequence('../../right-fg/rightfg-*.tiff'))\n",
    "# locate features in left video \n",
    "bs.locate_features(Lf, '../leftfeatures.h5')\n",
    "# locate features in right video \n",
    "bs.locate_features(Rf, '../rightfeatures.h5')"
   ]
  }
 ],
 "metadata": {
  "kernelspec": {
   "display_name": "Python [conda env:anaconda3]",
   "language": "python",
   "name": "conda-env-anaconda3-py"
  },
  "language_info": {
   "codemirror_mode": {
    "name": "ipython",
    "version": 3
   },
   "file_extension": ".py",
   "mimetype": "text/x-python",
   "name": "python",
   "nbconvert_exporter": "python",
   "pygments_lexer": "ipython3",
   "version": "3.6.2"
  }
 },
 "nbformat": 4,
 "nbformat_minor": 2
}
