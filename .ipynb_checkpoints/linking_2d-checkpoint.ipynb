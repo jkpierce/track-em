{
 "cells": [
  {
   "cell_type": "code",
   "execution_count": 1,
   "metadata": {},
   "outputs": [],
   "source": [
    "import numpy as np \n",
    "import pims\n",
    "import skimage as ski \n",
    "import matplotlib as mpl\n",
    "import matplotlib.pyplot as plt \n",
    "%matplotlib inline\n",
    "import pandas as pd\n",
    "import trackpy as tp\n",
    "from trackpy import predict\n",
    "import pickle\n",
    "import linking_2d as l2d\n",
    "import time \n",
    "#tweak plot styles\n",
    "mpl.rc('figure',  figsize=(9, 2))\n",
    "mpl.rc('image', cmap='gray')\n",
    "tp.ignore_logging() # important to not spam too much print output "
   ]
  },
  {
   "cell_type": "code",
   "execution_count": 2,
   "metadata": {},
   "outputs": [],
   "source": [
    "#run these if you want to reload imported modules every time the code is run \n",
    "%load_ext autoreload\n",
    "%autoreload 2"
   ]
  },
  {
   "cell_type": "code",
   "execution_count": 35,
   "metadata": {},
   "outputs": [],
   "source": [
    "# load in features\n",
    "tL = pd.read_hdf('/media/kpierce/Data/steadyspt4.1-rectified/analysis/trajectories/leftfeatures.h5')\n",
    "tR = pd.read_hdf('/media/kpierce/Data/steadyspt4.1-rectified/analysis/trajectories/rightfeatures.h5')\n",
    "\n",
    "# increase y coordinate of every feature by 245 to undo the cropping effect\n",
    "tL['y']+=245\n",
    "tR['y']+=245"
   ]
  },
  {
   "cell_type": "code",
   "execution_count": 37,
   "metadata": {
    "collapsed": true
   },
   "outputs": [],
   "source": [
    "# define the predictor \n",
    "@tp.predict.predictor\n",
    "def predict(t1, particle):\n",
    "    velocity = np.array((5, 0)) \n",
    "    return particle.pos + velocity * (t1 - particle.t)"
   ]
  },
  {
   "cell_type": "code",
   "execution_count": 6,
   "metadata": {
    "collapsed": true
   },
   "outputs": [],
   "source": [
    "# link features into 2d trajectories \n",
    "tL1 = tp.link_df(tL, search_range=50,memory=15, predictor=predict)\n",
    "tL1.to_hdf('/media/kpierce/Data/steadyspt4.1-rectified/analysis/trajectories/leftlinkedfeatures.h5',key='df',mode='w')"
   ]
  },
  {
   "cell_type": "code",
   "execution_count": 7,
   "metadata": {
    "collapsed": true
   },
   "outputs": [],
   "source": [
    "# link right features in 2d trajectories \n",
    "tR1 = tp.link_df(tR, search_range=50,memory=15, predictor=predict)\n",
    "tR1.to_hdf('/media/kpierce/Data/steadyspt4.1-rectified/analysis/trajectories/rightlinkedfeatures.h5',key='df',mode='w')"
   ]
  },
  {
   "cell_type": "code",
   "execution_count": 9,
   "metadata": {},
   "outputs": [
    {
     "name": "stdout",
     "output_type": "stream",
     "text": [
      "54.18119561672211\n"
     ]
    }
   ],
   "source": [
    "# create trajectory objects from the raw data \n",
    "tL = l2d.generate_trajectories(tL1,'L',minlength=20) #minlength means number of time points involved in the trajectory\n",
    "tR = l2d.generate_trajectories(tR1,'R',minlength=20) "
   ]
  },
  {
   "cell_type": "code",
   "execution_count": 10,
   "metadata": {
    "collapsed": true
   },
   "outputs": [],
   "source": [
    "# filter trajectories by their travel distance .. 30 pixels is about 1 particle diameter \n",
    "tL = l2d.distance_filter(tL)\n",
    "tR = l2d.distance_filter(tR)"
   ]
  },
  {
   "cell_type": "code",
   "execution_count": 11,
   "metadata": {
    "collapsed": true
   },
   "outputs": [],
   "source": [
    "# save trajectories\n",
    "f = open('../trajectories/tL-pickle', 'wb')\n",
    "pickle.dump(tL, f)\n",
    "f.close()\n",
    "f = open('../trajectories/tR-pickle', 'wb')\n",
    "pickle.dump(tR, f)\n",
    "f.close()"
   ]
  },
  {
   "cell_type": "code",
   "execution_count": null,
   "metadata": {
    "collapsed": true
   },
   "outputs": [],
   "source": [
    "# load trajectories \n",
    "\n",
    "# load in the trajectories to link \n",
    "f = open('../trajectories/tLi-pickle','rb') # these are the interpolated trajectories \n",
    "tL = pickle.load(f)\n",
    "f.close()\n",
    "f = open('../trajectories/tRi-pickle','rb') \n",
    "tR = pickle.load(f)\n",
    "f.close()"
   ]
  },
  {
   "cell_type": "code",
   "execution_count": 23,
   "metadata": {
    "scrolled": true
   },
   "outputs": [
    {
     "name": "stdout",
     "output_type": "stream",
     "text": [
      "trajectory 0 processed\r"
     ]
    }
   ],
   "source": [
    "# now interpolate trajectories. about 1.5 hrs each \n",
    "# get the left one \n",
    "tLi = l2d.interp_trajectories(tL[:10],'L')\n",
    "# save interpolated trajectories \n",
    "f = open('../trajectories/tLi-pickle', 'wb')\n",
    "pickle.dump(tLi, f)\n",
    "f.close()"
   ]
  },
  {
   "cell_type": "code",
   "execution_count": 25,
   "metadata": {},
   "outputs": [
    {
     "name": "stdout",
     "output_type": "stream",
     "text": [
      "trajectory 0 processed\r"
     ]
    }
   ],
   "source": [
    "# and the right one \n",
    "tRi = l2d.interp_trajectories(tR[:10],'R')\n",
    "# save interpolated trajectories \n",
    "f = open('../trajectories/tRi-pickle', 'wb')\n",
    "pickle.dump(tRi, f)\n",
    "f.close()"
   ]
  },
  {
   "cell_type": "code",
   "execution_count": 119,
   "metadata": {},
   "outputs": [],
   "source": [
    "# need to visualize trajectories\n",
    "\n",
    "tL = pd.read_hdf('/media/kpierce/Data/steadyspt4.1-rectified/analysis/trajectories/leftlinkedfeatures.h5')\n",
    "tR = pd.read_hdf('/media/kpierce/Data/steadyspt4.1-rectified/analysis/trajectories/rightlinkedfeatures.h5')\n",
    "\n",
    "import background_subtraction as bs\n",
    "L = bs.arr(pims.ImageSequence('../../left-rect/left-*.tiff'))\n",
    "R = bs.arr(pims.ImageSequence('../../right-rect/right-*.tiff'))"
   ]
  },
  {
   "cell_type": "code",
   "execution_count": 187,
   "metadata": {
    "collapsed": true
   },
   "outputs": [],
   "source": [
    "import skimage as ski\n",
    "from skimage import draw\n",
    "import visualization as vs"
   ]
  },
  {
   "cell_type": "code",
   "execution_count": 188,
   "metadata": {},
   "outputs": [],
   "source": [
    "im1 = vs.annotate_linked_features(L,tL,133)\n",
    "im2 = vs.annotate_linked_features(L,tL,135)"
   ]
  },
  {
   "cell_type": "code",
   "execution_count": 189,
   "metadata": {
    "collapsed": true
   },
   "outputs": [],
   "source": [
    "ski.io.imsave('test1.jpg',im1)\n",
    "ski.io.imsave('test2.jpg',im2)"
   ]
  },
  {
   "cell_type": "code",
   "execution_count": 191,
   "metadata": {
    "collapsed": true
   },
   "outputs": [],
   "source": [
    "mkdir 'tracked-features'"
   ]
  },
  {
   "cell_type": "code",
   "execution_count": null,
   "metadata": {
    "collapsed": true
   },
   "outputs": [],
   "source": []
  }
 ],
 "metadata": {
  "kernelspec": {
   "display_name": "Python [conda env:anaconda3]",
   "language": "python",
   "name": "conda-env-anaconda3-py"
  },
  "language_info": {
   "codemirror_mode": {
    "name": "ipython",
    "version": 3
   },
   "file_extension": ".py",
   "mimetype": "text/x-python",
   "name": "python",
   "nbconvert_exporter": "python",
   "pygments_lexer": "ipython3",
   "version": "3.6.6"
  }
 },
 "nbformat": 4,
 "nbformat_minor": 2
}
