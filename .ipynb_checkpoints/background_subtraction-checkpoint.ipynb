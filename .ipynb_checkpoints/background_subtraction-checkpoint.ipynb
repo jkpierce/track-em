{
 "cells": [
  {
   "cell_type": "code",
   "execution_count": 11,
   "metadata": {},
   "outputs": [],
   "source": [
    "# imports \n",
    "import pims\n",
    "import numpy as np \n",
    "import PIL\n",
    "import pandas as pd\n",
    "import skimage\n",
    "from skimage import measure \n",
    "import background_subtraction as bs \n",
    "import time \n",
    "from scipy import ndimage "
   ]
  },
  {
   "cell_type": "code",
   "execution_count": 7,
   "metadata": {
    "collapsed": true
   },
   "outputs": [],
   "source": [
    "#run these if you want to reload imported modules every time the code is run \n",
    "%load_ext autoreload\n",
    "%autoreload 2"
   ]
  },
  {
   "cell_type": "code",
   "execution_count": null,
   "metadata": {
    "collapsed": true
   },
   "outputs": [],
   "source": [
    "### Run analysis on the video sequence. All you need to modify for different datasets is all of these pathes. \n",
    "# load videos, convert to numpy, then crop \n",
    "L = bs.crop(bs.arr(pims.ImageSequence('../../left-rect/left-*.tiff')))\n",
    "R = bs.crop(bs.arr(pims.ImageSequence('../../right-rect/right-*.tiff')))"
   ]
  },
  {
   "cell_type": "code",
   "execution_count": null,
   "metadata": {
    "collapsed": true
   },
   "outputs": [],
   "source": [
    "# generate left foreground video\n",
    "bs.gen_foregrounds(L,'../../left-fg','leftfg')"
   ]
  },
  {
   "cell_type": "code",
   "execution_count": null,
   "metadata": {
    "collapsed": true
   },
   "outputs": [],
   "source": [
    "# generate right foreground video \n",
    "bs.gen_foregrounds(R,'../../right-fg','rightfg')"
   ]
  },
  {
   "cell_type": "code",
   "execution_count": 4,
   "metadata": {},
   "outputs": [],
   "source": [
    "# load foreground videos \n",
    "Lf = bs.arr(pims.ImageSequence('../../left-fg/leftfg-*.tiff'))\n",
    "Rf = bs.arr(pims.ImageSequence('../../right-fg/rightfg-*.tiff'))"
   ]
  },
  {
   "cell_type": "code",
   "execution_count": null,
   "metadata": {
    "collapsed": true
   },
   "outputs": [],
   "source": [
    "# locate features in left video \n",
    "bs.locate_features(Lf, '../leftfeatures.h5')"
   ]
  },
  {
   "cell_type": "code",
   "execution_count": null,
   "metadata": {},
   "outputs": [
    {
     "name": "stdout",
     "output_type": "stream",
     "text": [
      "frame 0 in 0.0 seconds\n",
      "frame 1000 in 44.61 seconds\n",
      "frame 2000 in 87.98 seconds\n"
     ]
    }
   ],
   "source": [
    "# locate features in right video \n",
    "bs.locate_features(Rf, '../rightfeatures.h5')"
   ]
  }
 ],
 "metadata": {
  "kernelspec": {
   "display_name": "Python [conda env:anaconda3]",
   "language": "python",
   "name": "conda-env-anaconda3-py"
  },
  "language_info": {
   "codemirror_mode": {
    "name": "ipython",
    "version": 3
   },
   "file_extension": ".py",
   "mimetype": "text/x-python",
   "name": "python",
   "nbconvert_exporter": "python",
   "pygments_lexer": "ipython3",
   "version": "3.6.2"
  }
 },
 "nbformat": 4,
 "nbformat_minor": 2
}
